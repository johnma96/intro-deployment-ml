{
 "cells": [
  {
   "cell_type": "markdown",
   "id": "43debe34",
   "metadata": {},
   "source": [
    "## Data Preparation"
   ]
  },
  {
   "cell_type": "code",
   "execution_count": 35,
   "id": "a042497d",
   "metadata": {},
   "outputs": [],
   "source": [
    "import pandas as pd"
   ]
  },
  {
   "cell_type": "code",
   "execution_count": 64,
   "id": "aeb45838",
   "metadata": {},
   "outputs": [],
   "source": [
    "movies_data_path = '../data/raw/movies.csv'\n",
    "finantial_data_path = '../data/raw/finantials.csv'\n",
    "opening_data_path = '../data/raw/opening_gross.csv'"
   ]
  },
  {
   "cell_type": "code",
   "execution_count": 65,
   "id": "31c3b9ad",
   "metadata": {},
   "outputs": [],
   "source": [
    "fin_data = pd.read_csv(finantial_data_path)\n",
    "movie_data = pd.read_csv(movies_data_path)\n",
    "opening_data = pd.read_csv(opening_data_path)"
   ]
  },
  {
   "cell_type": "code",
   "execution_count": 66,
   "id": "4a88353f",
   "metadata": {},
   "outputs": [
    {
     "data": {
      "text/plain": [
       "Index(['Unnamed: 0', 'movie_name', 'domestic_gross', 'movie_link',\n",
       "       'production_budget', 'release_date', 'worldwide_gross', 'movie_title'],\n",
       "      dtype='object')"
      ]
     },
     "execution_count": 66,
     "metadata": {},
     "output_type": "execute_result"
    }
   ],
   "source": [
    "fin_data.columns"
   ]
  },
  {
   "cell_type": "code",
   "execution_count": 67,
   "id": "f396eafd",
   "metadata": {},
   "outputs": [
    {
     "data": {
      "text/plain": [
       "Index(['title_year', 'aspect_ratio', 'duration', 'cast_total_facebook_likes',\n",
       "       'budget', 'imdb_score', 'gross', 'movie_title'],\n",
       "      dtype='object')"
      ]
     },
     "execution_count": 67,
     "metadata": {},
     "output_type": "execute_result"
    }
   ],
   "source": [
    "movie_data.columns"
   ]
  },
  {
   "cell_type": "code",
   "execution_count": 68,
   "id": "1c2efac3",
   "metadata": {},
   "outputs": [
    {
     "data": {
      "text/plain": [
       "Index(['movie_title', 'opening_gross', 'screens'], dtype='object')"
      ]
     },
     "execution_count": 68,
     "metadata": {},
     "output_type": "execute_result"
    }
   ],
   "source": [
    "opening_data.columns"
   ]
  },
  {
   "cell_type": "code",
   "execution_count": 69,
   "id": "d353bd3c",
   "metadata": {},
   "outputs": [
    {
     "data": {
      "text/html": [
       "<div>\n",
       "<style scoped>\n",
       "    .dataframe tbody tr th:only-of-type {\n",
       "        vertical-align: middle;\n",
       "    }\n",
       "\n",
       "    .dataframe tbody tr th {\n",
       "        vertical-align: top;\n",
       "    }\n",
       "\n",
       "    .dataframe thead th {\n",
       "        text-align: right;\n",
       "    }\n",
       "</style>\n",
       "<table border=\"1\" class=\"dataframe\">\n",
       "  <thead>\n",
       "    <tr style=\"text-align: right;\">\n",
       "      <th></th>\n",
       "      <th>title_year</th>\n",
       "      <th>aspect_ratio</th>\n",
       "      <th>duration</th>\n",
       "      <th>cast_total_facebook_likes</th>\n",
       "      <th>budget</th>\n",
       "      <th>imdb_score</th>\n",
       "      <th>gross</th>\n",
       "      <th>movie_title</th>\n",
       "    </tr>\n",
       "  </thead>\n",
       "  <tbody>\n",
       "    <tr>\n",
       "      <th>0</th>\n",
       "      <td>2009.0</td>\n",
       "      <td>1.78</td>\n",
       "      <td>178.0</td>\n",
       "      <td>4834</td>\n",
       "      <td>237000000.0</td>\n",
       "      <td>7.9</td>\n",
       "      <td>760505847.0</td>\n",
       "      <td>Avatar</td>\n",
       "    </tr>\n",
       "    <tr>\n",
       "      <th>1</th>\n",
       "      <td>2007.0</td>\n",
       "      <td>2.35</td>\n",
       "      <td>169.0</td>\n",
       "      <td>48350</td>\n",
       "      <td>300000000.0</td>\n",
       "      <td>7.1</td>\n",
       "      <td>309404152.0</td>\n",
       "      <td>Pirates of the Caribbean: At World's End</td>\n",
       "    </tr>\n",
       "    <tr>\n",
       "      <th>2</th>\n",
       "      <td>2015.0</td>\n",
       "      <td>2.35</td>\n",
       "      <td>148.0</td>\n",
       "      <td>11700</td>\n",
       "      <td>245000000.0</td>\n",
       "      <td>6.8</td>\n",
       "      <td>200074175.0</td>\n",
       "      <td>Spectre</td>\n",
       "    </tr>\n",
       "    <tr>\n",
       "      <th>3</th>\n",
       "      <td>2012.0</td>\n",
       "      <td>2.35</td>\n",
       "      <td>164.0</td>\n",
       "      <td>106759</td>\n",
       "      <td>250000000.0</td>\n",
       "      <td>8.5</td>\n",
       "      <td>448130642.0</td>\n",
       "      <td>The Dark Knight Rises</td>\n",
       "    </tr>\n",
       "    <tr>\n",
       "      <th>4</th>\n",
       "      <td>NaN</td>\n",
       "      <td>NaN</td>\n",
       "      <td>NaN</td>\n",
       "      <td>143</td>\n",
       "      <td>NaN</td>\n",
       "      <td>7.1</td>\n",
       "      <td>NaN</td>\n",
       "      <td>Star Wars: Episode VII - The Force Awakens    ...</td>\n",
       "    </tr>\n",
       "  </tbody>\n",
       "</table>\n",
       "</div>"
      ],
      "text/plain": [
       "   title_year  aspect_ratio  duration  cast_total_facebook_likes       budget  \\\n",
       "0      2009.0          1.78     178.0                       4834  237000000.0   \n",
       "1      2007.0          2.35     169.0                      48350  300000000.0   \n",
       "2      2015.0          2.35     148.0                      11700  245000000.0   \n",
       "3      2012.0          2.35     164.0                     106759  250000000.0   \n",
       "4         NaN           NaN       NaN                        143          NaN   \n",
       "\n",
       "   imdb_score        gross                                        movie_title  \n",
       "0         7.9  760505847.0                                            Avatar   \n",
       "1         7.1  309404152.0          Pirates of the Caribbean: At World's End   \n",
       "2         6.8  200074175.0                                           Spectre   \n",
       "3         8.5  448130642.0                             The Dark Knight Rises   \n",
       "4         7.1          NaN  Star Wars: Episode VII - The Force Awakens    ...  "
      ]
     },
     "execution_count": 69,
     "metadata": {},
     "output_type": "execute_result"
    }
   ],
   "source": [
    "movie_data.head()"
   ]
  },
  {
   "cell_type": "code",
   "execution_count": 70,
   "id": "65863cfd",
   "metadata": {},
   "outputs": [],
   "source": [
    "movie_data.cast_total_facebook_likes = movie_data.cast_total_facebook_likes.astype(int)"
   ]
  },
  {
   "cell_type": "code",
   "execution_count": 71,
   "id": "c7062bc5",
   "metadata": {},
   "outputs": [
    {
     "data": {
      "text/plain": [
       "Index(['title_year', 'aspect_ratio', 'duration', 'cast_total_facebook_likes',\n",
       "       'budget', 'imdb_score', 'gross', 'movie_title'],\n",
       "      dtype='object')"
      ]
     },
     "execution_count": 71,
     "metadata": {},
     "output_type": "execute_result"
    }
   ],
   "source": [
    "numeric_columns_mask = (movie_data.dtypes == float) | (movie_data.dtypes == int)\n",
    "numeric_columns = [column for column in numeric_columns_mask.index if numeric_columns_mask[column]]\n",
    "movie_data = movie_data[numeric_columns+['movie_title']]\n",
    "movie_data.columns"
   ]
  },
  {
   "cell_type": "code",
   "execution_count": 72,
   "id": "697ea2e2",
   "metadata": {},
   "outputs": [],
   "source": [
    "fin_data = fin_data[['movie_title','production_budget','worldwide_gross']]"
   ]
  },
  {
   "cell_type": "code",
   "execution_count": 73,
   "id": "ec9d0adc",
   "metadata": {},
   "outputs": [],
   "source": [
    "fin_movie_data = pd.merge(fin_data, movie_data, on= 'movie_title', how='left')"
   ]
  },
  {
   "cell_type": "code",
   "execution_count": 74,
   "id": "6ca13e79",
   "metadata": {},
   "outputs": [],
   "source": [
    "full_movie_data = pd.merge( opening_data,fin_movie_data, on = 'movie_title', how='left')"
   ]
  },
  {
   "cell_type": "code",
   "execution_count": 75,
   "id": "c372e153",
   "metadata": {},
   "outputs": [
    {
     "data": {
      "text/plain": [
       "(2304, 12)"
      ]
     },
     "execution_count": 75,
     "metadata": {},
     "output_type": "execute_result"
    }
   ],
   "source": [
    "full_movie_data[(full_movie_data.worldwide_gross != 0) & (full_movie_data.worldwide_gross.notnull())].shape"
   ]
  },
  {
   "cell_type": "code",
   "execution_count": 76,
   "id": "dbd03bcb",
   "metadata": {
    "scrolled": true
   },
   "outputs": [],
   "source": [
    "full_movie_data = full_movie_data.drop(['movie_title','gross'],axis=1)"
   ]
  },
  {
   "cell_type": "code",
   "execution_count": 77,
   "id": "68311214",
   "metadata": {},
   "outputs": [
    {
     "data": {
      "text/plain": [
       "Index(['opening_gross', 'screens', 'production_budget', 'worldwide_gross',\n",
       "       'title_year', 'aspect_ratio', 'duration', 'cast_total_facebook_likes',\n",
       "       'budget', 'imdb_score'],\n",
       "      dtype='object')"
      ]
     },
     "execution_count": 77,
     "metadata": {},
     "output_type": "execute_result"
    }
   ],
   "source": [
    "full_movie_data.columns"
   ]
  },
  {
   "cell_type": "code",
   "execution_count": 78,
   "id": "b827f2e6",
   "metadata": {},
   "outputs": [
    {
     "data": {
      "text/html": [
       "<div>\n",
       "<style scoped>\n",
       "    .dataframe tbody tr th:only-of-type {\n",
       "        vertical-align: middle;\n",
       "    }\n",
       "\n",
       "    .dataframe tbody tr th {\n",
       "        vertical-align: top;\n",
       "    }\n",
       "\n",
       "    .dataframe thead th {\n",
       "        text-align: right;\n",
       "    }\n",
       "</style>\n",
       "<table border=\"1\" class=\"dataframe\">\n",
       "  <thead>\n",
       "    <tr style=\"text-align: right;\">\n",
       "      <th></th>\n",
       "      <th>opening_gross</th>\n",
       "      <th>screens</th>\n",
       "      <th>production_budget</th>\n",
       "      <th>worldwide_gross</th>\n",
       "      <th>title_year</th>\n",
       "      <th>aspect_ratio</th>\n",
       "      <th>duration</th>\n",
       "      <th>cast_total_facebook_likes</th>\n",
       "      <th>budget</th>\n",
       "      <th>imdb_score</th>\n",
       "    </tr>\n",
       "  </thead>\n",
       "  <tbody>\n",
       "    <tr>\n",
       "      <th>0</th>\n",
       "      <td>2451.0</td>\n",
       "      <td>10.0</td>\n",
       "      <td>12000000</td>\n",
       "      <td>14616</td>\n",
       "      <td>2015.0</td>\n",
       "      <td>1.85</td>\n",
       "      <td>111.0</td>\n",
       "      <td>2059</td>\n",
       "      <td>12000000.0</td>\n",
       "      <td>7.5</td>\n",
       "    </tr>\n",
       "    <tr>\n",
       "      <th>1</th>\n",
       "      <td>8330681.0</td>\n",
       "      <td>2271.0</td>\n",
       "      <td>13000000</td>\n",
       "      <td>60414025</td>\n",
       "      <td>1999.0</td>\n",
       "      <td>1.85</td>\n",
       "      <td>97.0</td>\n",
       "      <td>37907</td>\n",
       "      <td>16000000.0</td>\n",
       "      <td>7.2</td>\n",
       "    </tr>\n",
       "    <tr>\n",
       "      <th>2</th>\n",
       "      <td>19883351.0</td>\n",
       "      <td>2704.0</td>\n",
       "      <td>85000000</td>\n",
       "      <td>66941559</td>\n",
       "      <td>2000.0</td>\n",
       "      <td>1.85</td>\n",
       "      <td>100.0</td>\n",
       "      <td>4182</td>\n",
       "      <td>85000000.0</td>\n",
       "      <td>4.8</td>\n",
       "    </tr>\n",
       "    <tr>\n",
       "      <th>3</th>\n",
       "      <td>5329240.0</td>\n",
       "      <td>2331.0</td>\n",
       "      <td>20000000</td>\n",
       "      <td>17306648</td>\n",
       "      <td>2009.0</td>\n",
       "      <td>2.35</td>\n",
       "      <td>108.0</td>\n",
       "      <td>2799</td>\n",
       "      <td>22000000.0</td>\n",
       "      <td>5.6</td>\n",
       "    </tr>\n",
       "    <tr>\n",
       "      <th>4</th>\n",
       "      <td>923715.0</td>\n",
       "      <td>19.0</td>\n",
       "      <td>20000000</td>\n",
       "      <td>181025343</td>\n",
       "      <td>2013.0</td>\n",
       "      <td>2.35</td>\n",
       "      <td>134.0</td>\n",
       "      <td>4251</td>\n",
       "      <td>20000000.0</td>\n",
       "      <td>8.1</td>\n",
       "    </tr>\n",
       "    <tr>\n",
       "      <th>...</th>\n",
       "      <td>...</td>\n",
       "      <td>...</td>\n",
       "      <td>...</td>\n",
       "      <td>...</td>\n",
       "      <td>...</td>\n",
       "      <td>...</td>\n",
       "      <td>...</td>\n",
       "      <td>...</td>\n",
       "      <td>...</td>\n",
       "      <td>...</td>\n",
       "    </tr>\n",
       "    <tr>\n",
       "      <th>2299</th>\n",
       "      <td>24733155.0</td>\n",
       "      <td>3036.0</td>\n",
       "      <td>23600000</td>\n",
       "      <td>102236596</td>\n",
       "      <td>2009.0</td>\n",
       "      <td>2.35</td>\n",
       "      <td>88.0</td>\n",
       "      <td>28011</td>\n",
       "      <td>23600000.0</td>\n",
       "      <td>7.7</td>\n",
       "    </tr>\n",
       "    <tr>\n",
       "      <th>2300</th>\n",
       "      <td>20065617.0</td>\n",
       "      <td>3482.0</td>\n",
       "      <td>80000000</td>\n",
       "      <td>170805525</td>\n",
       "      <td>2011.0</td>\n",
       "      <td>2.35</td>\n",
       "      <td>102.0</td>\n",
       "      <td>5392</td>\n",
       "      <td>80000000.0</td>\n",
       "      <td>5.2</td>\n",
       "    </tr>\n",
       "    <tr>\n",
       "      <th>2301</th>\n",
       "      <td>15650000.0</td>\n",
       "      <td>3394.0</td>\n",
       "      <td>50000000</td>\n",
       "      <td>55348693</td>\n",
       "      <td>2016.0</td>\n",
       "      <td>2.35</td>\n",
       "      <td>102.0</td>\n",
       "      <td>24107</td>\n",
       "      <td>50000000.0</td>\n",
       "      <td>4.8</td>\n",
       "    </tr>\n",
       "    <tr>\n",
       "      <th>2302</th>\n",
       "      <td>4510408.0</td>\n",
       "      <td>NaN</td>\n",
       "      <td>35000000</td>\n",
       "      <td>12506188</td>\n",
       "      <td>2006.0</td>\n",
       "      <td>1.85</td>\n",
       "      <td>83.0</td>\n",
       "      <td>5022</td>\n",
       "      <td>35000000.0</td>\n",
       "      <td>4.2</td>\n",
       "    </tr>\n",
       "    <tr>\n",
       "      <th>2303</th>\n",
       "      <td>12661112.0</td>\n",
       "      <td>NaN</td>\n",
       "      <td>55000000</td>\n",
       "      <td>47953341</td>\n",
       "      <td>2005.0</td>\n",
       "      <td>2.35</td>\n",
       "      <td>93.0</td>\n",
       "      <td>10185</td>\n",
       "      <td>62000000.0</td>\n",
       "      <td>5.5</td>\n",
       "    </tr>\n",
       "  </tbody>\n",
       "</table>\n",
       "<p>2304 rows × 10 columns</p>\n",
       "</div>"
      ],
      "text/plain": [
       "      opening_gross  screens  production_budget  worldwide_gross  title_year  \\\n",
       "0            2451.0     10.0           12000000            14616      2015.0   \n",
       "1         8330681.0   2271.0           13000000         60414025      1999.0   \n",
       "2        19883351.0   2704.0           85000000         66941559      2000.0   \n",
       "3         5329240.0   2331.0           20000000         17306648      2009.0   \n",
       "4          923715.0     19.0           20000000        181025343      2013.0   \n",
       "...             ...      ...                ...              ...         ...   \n",
       "2299     24733155.0   3036.0           23600000        102236596      2009.0   \n",
       "2300     20065617.0   3482.0           80000000        170805525      2011.0   \n",
       "2301     15650000.0   3394.0           50000000         55348693      2016.0   \n",
       "2302      4510408.0      NaN           35000000         12506188      2006.0   \n",
       "2303     12661112.0      NaN           55000000         47953341      2005.0   \n",
       "\n",
       "      aspect_ratio  duration  cast_total_facebook_likes      budget  \\\n",
       "0             1.85     111.0                       2059  12000000.0   \n",
       "1             1.85      97.0                      37907  16000000.0   \n",
       "2             1.85     100.0                       4182  85000000.0   \n",
       "3             2.35     108.0                       2799  22000000.0   \n",
       "4             2.35     134.0                       4251  20000000.0   \n",
       "...            ...       ...                        ...         ...   \n",
       "2299          2.35      88.0                      28011  23600000.0   \n",
       "2300          2.35     102.0                       5392  80000000.0   \n",
       "2301          2.35     102.0                      24107  50000000.0   \n",
       "2302          1.85      83.0                       5022  35000000.0   \n",
       "2303          2.35      93.0                      10185  62000000.0   \n",
       "\n",
       "      imdb_score  \n",
       "0            7.5  \n",
       "1            7.2  \n",
       "2            4.8  \n",
       "3            5.6  \n",
       "4            8.1  \n",
       "...          ...  \n",
       "2299         7.7  \n",
       "2300         5.2  \n",
       "2301         4.8  \n",
       "2302         4.2  \n",
       "2303         5.5  \n",
       "\n",
       "[2304 rows x 10 columns]"
      ]
     },
     "execution_count": 78,
     "metadata": {},
     "output_type": "execute_result"
    }
   ],
   "source": [
    "full_movie_data"
   ]
  },
  {
   "cell_type": "markdown",
   "id": "3d855446",
   "metadata": {},
   "source": [
    "## Modeling"
   ]
  },
  {
   "cell_type": "code",
   "execution_count": 79,
   "id": "f9699a87",
   "metadata": {},
   "outputs": [],
   "source": [
    "from sklearn.model_selection import train_test_split\n",
    "from sklearn.pipeline import Pipeline\n",
    "from sklearn.impute import SimpleImputer\n",
    "from sklearn.ensemble import GradientBoostingRegressor\n",
    "from sklearn.model_selection import cross_validate\n",
    "import numpy as np"
   ]
  },
  {
   "cell_type": "code",
   "execution_count": 80,
   "id": "d6827e1b",
   "metadata": {},
   "outputs": [],
   "source": [
    "X = full_movie_data.drop(['worldwide_gross'], axis = 1)\n",
    "y = full_movie_data['worldwide_gross']"
   ]
  },
  {
   "cell_type": "code",
   "execution_count": 81,
   "id": "f943a690",
   "metadata": {},
   "outputs": [],
   "source": [
    "pipeline = Pipeline([\n",
    "    ('imputer', SimpleImputer(missing_values=np.nan, strategy='mean')),\n",
    "    ('core_model', GradientBoostingRegressor())\n",
    "])"
   ]
  },
  {
   "cell_type": "code",
   "execution_count": 82,
   "id": "cca7ef92",
   "metadata": {},
   "outputs": [
    {
     "data": {
      "text/plain": [
       "{'fit_time': array([0.27278638, 0.21711946, 0.2080822 , 0.21602845, 0.21612668,\n",
       "        0.22522283, 0.21051621, 0.20785689, 0.20845413, 0.20848656]),\n",
       " 'score_time': array([0.00802159, 0.        , 0.        , 0.00809312, 0.        ,\n",
       "        0.        , 0.        , 0.        , 0.        , 0.        ]),\n",
       " 'test_score': array([0.67444786, 0.85377011, 0.64418594, 0.77469178, 0.78378806,\n",
       "        0.86953387, 0.75719785, 0.86841195, 0.64948957, 0.65786724]),\n",
       " 'train_score': array([0.91673951, 0.91581777, 0.9228721 , 0.91654412, 0.92172829,\n",
       "        0.91476722, 0.92151444, 0.91734995, 0.92320705, 0.91766026])}"
      ]
     },
     "execution_count": 82,
     "metadata": {},
     "output_type": "execute_result"
    }
   ],
   "source": [
    "results = cross_validate(pipeline ,X,y,return_train_score=True,cv=10)\n",
    "results"
   ]
  },
  {
   "cell_type": "code",
   "execution_count": 83,
   "id": "fbde089f",
   "metadata": {},
   "outputs": [
    {
     "name": "stdout",
     "output_type": "stream",
     "text": [
      "Train Score: 0.9188200721676859\n",
      "Test Score: 0.7533384230721636\n"
     ]
    }
   ],
   "source": [
    "train_score = np.mean(results['train_score'])\n",
    "test_score = np.mean(results['test_score'])\n",
    "assert train_score > 0.7\n",
    "assert test_score > 0.65\n",
    "print(f'Train Score: {train_score}')\n",
    "print(f'Test Score: {test_score}')"
   ]
  },
  {
   "cell_type": "markdown",
   "id": "2d780543",
   "metadata": {},
   "source": [
    "## Hyperparameter tunning"
   ]
  },
  {
   "cell_type": "code",
   "execution_count": 84,
   "id": "5827e6f5",
   "metadata": {},
   "outputs": [],
   "source": [
    "from sklearn.model_selection import GridSearchCV"
   ]
  },
  {
   "cell_type": "code",
   "execution_count": 85,
   "id": "da68e0fc",
   "metadata": {},
   "outputs": [],
   "source": [
    "param_tunning = {'core_model__n_estimators': range(20,501,20)} "
   ]
  },
  {
   "cell_type": "code",
   "execution_count": 86,
   "id": "193f0cd6",
   "metadata": {},
   "outputs": [],
   "source": [
    "estimator = Pipeline([\n",
    "    ('imputer', SimpleImputer(missing_values=np.nan, strategy='mean')),\n",
    "    ('core_model', GradientBoostingRegressor())\n",
    "])"
   ]
  },
  {
   "cell_type": "code",
   "execution_count": 87,
   "id": "b2e5d303",
   "metadata": {},
   "outputs": [],
   "source": [
    "grid_search= GridSearchCV(estimator,\n",
    "                       param_grid = param_tunning,\n",
    "                       scoring='r2',\n",
    "                       cv=5) "
   ]
  },
  {
   "cell_type": "code",
   "execution_count": 88,
   "id": "ba418e6f",
   "metadata": {},
   "outputs": [],
   "source": [
    "X_train, X_test, y_train, y_test = train_test_split(X,y, test_size = 0.35,random_state= 42)"
   ]
  },
  {
   "cell_type": "code",
   "execution_count": 89,
   "id": "95368333",
   "metadata": {},
   "outputs": [
    {
     "data": {
      "text/plain": [
       "GridSearchCV(cv=5,\n",
       "             estimator=Pipeline(steps=[('imputer', SimpleImputer()),\n",
       "                                       ('core_model',\n",
       "                                        GradientBoostingRegressor())]),\n",
       "             param_grid={'core_model__n_estimators': range(20, 501, 20)},\n",
       "             scoring='r2')"
      ]
     },
     "execution_count": 89,
     "metadata": {},
     "output_type": "execute_result"
    }
   ],
   "source": [
    "grid_search.fit(X_train, y_train)"
   ]
  },
  {
   "cell_type": "code",
   "execution_count": 90,
   "id": "cfa90e5a",
   "metadata": {},
   "outputs": [
    {
     "data": {
      "text/plain": [
       "Pipeline(steps=[('imputer', SimpleImputer()),\n",
       "                ('core_model', GradientBoostingRegressor())])"
      ]
     },
     "execution_count": 90,
     "metadata": {},
     "output_type": "execute_result"
    }
   ],
   "source": [
    "grid_search.best_estimator_"
   ]
  },
  {
   "cell_type": "code",
   "execution_count": 91,
   "id": "f03a1dac",
   "metadata": {},
   "outputs": [],
   "source": [
    "final_result = cross_validate(grid_search.best_estimator_,X_train,y_train,return_train_score=True,cv=7)"
   ]
  },
  {
   "cell_type": "code",
   "execution_count": 92,
   "id": "461f63dd",
   "metadata": {},
   "outputs": [
    {
     "name": "stdout",
     "output_type": "stream",
     "text": [
      "Train Score: 0.9389198765627829\n",
      "Test Score: 0.753542635160847\n"
     ]
    }
   ],
   "source": [
    "train_score = np.mean(final_result['train_score'])\n",
    "test_score = np.mean(final_result['test_score'])\n",
    "assert train_score > 0.7\n",
    "assert test_score > 0.65\n",
    "print(f'Train Score: {train_score}')\n",
    "print(f'Test Score: {test_score}')"
   ]
  },
  {
   "cell_type": "code",
   "execution_count": 93,
   "id": "8c669f7d",
   "metadata": {
    "scrolled": false
   },
   "outputs": [
    {
     "data": {
      "text/plain": [
       "{'memory': None,\n",
       " 'steps': [('imputer', SimpleImputer()),\n",
       "  ('core_model', GradientBoostingRegressor())],\n",
       " 'verbose': False,\n",
       " 'imputer': SimpleImputer(),\n",
       " 'core_model': GradientBoostingRegressor(),\n",
       " 'imputer__add_indicator': False,\n",
       " 'imputer__copy': True,\n",
       " 'imputer__fill_value': None,\n",
       " 'imputer__missing_values': nan,\n",
       " 'imputer__strategy': 'mean',\n",
       " 'imputer__verbose': 0,\n",
       " 'core_model__alpha': 0.9,\n",
       " 'core_model__ccp_alpha': 0.0,\n",
       " 'core_model__criterion': 'friedman_mse',\n",
       " 'core_model__init': None,\n",
       " 'core_model__learning_rate': 0.1,\n",
       " 'core_model__loss': 'squared_error',\n",
       " 'core_model__max_depth': 3,\n",
       " 'core_model__max_features': None,\n",
       " 'core_model__max_leaf_nodes': None,\n",
       " 'core_model__min_impurity_decrease': 0.0,\n",
       " 'core_model__min_samples_leaf': 1,\n",
       " 'core_model__min_samples_split': 2,\n",
       " 'core_model__min_weight_fraction_leaf': 0.0,\n",
       " 'core_model__n_estimators': 100,\n",
       " 'core_model__n_iter_no_change': None,\n",
       " 'core_model__random_state': None,\n",
       " 'core_model__subsample': 1.0,\n",
       " 'core_model__tol': 0.0001,\n",
       " 'core_model__validation_fraction': 0.1,\n",
       " 'core_model__verbose': 0,\n",
       " 'core_model__warm_start': False}"
      ]
     },
     "execution_count": 93,
     "metadata": {},
     "output_type": "execute_result"
    }
   ],
   "source": [
    "grid_search.best_estimator_.get_params()"
   ]
  },
  {
   "cell_type": "code",
   "execution_count": 94,
   "id": "6d479277",
   "metadata": {},
   "outputs": [],
   "source": [
    "estimator = Pipeline([\n",
    "    ('imputer', SimpleImputer(missing_values=np.nan, strategy='mean')),\n",
    "    ('core_model', GradientBoostingRegressor(n_estimators=220,\n",
    "                                             alpha=0.9,\n",
    "                                             ccp_alpha=0.0,\n",
    "                                             criterion='friedman_mse',\n",
    "                                             init=None,\n",
    "                                             learning_rate=0.1,\n",
    "                                             loss='squared_error',\n",
    "                                             max_depth=3,\n",
    "                                             max_features=None,\n",
    "                                             max_leaf_nodes=None,\n",
    "                                             min_impurity_decrease=0.0,\n",
    "                                             min_samples_leaf=1,\n",
    "                                             min_samples_split=2,\n",
    "                                             min_weight_fraction_leaf=0.0,\n",
    "                                             n_iter_no_change=None,\n",
    "                                             random_state=None,\n",
    "                                             subsample=1.0,\n",
    "                                             tol=0.0001,\n",
    "                                             validation_fraction=0.1,\n",
    "                                             verbose=0,\n",
    "                                             warm_start=False))\n",
    "])"
   ]
  },
  {
   "cell_type": "code",
   "execution_count": 95,
   "id": "04e3c693",
   "metadata": {},
   "outputs": [
    {
     "data": {
      "text/plain": [
       "Pipeline(steps=[('imputer', SimpleImputer()),\n",
       "                ('core_model', GradientBoostingRegressor(n_estimators=220))])"
      ]
     },
     "execution_count": 95,
     "metadata": {},
     "output_type": "execute_result"
    }
   ],
   "source": [
    "estimator.fit(X_train,y_train)"
   ]
  },
  {
   "cell_type": "code",
   "execution_count": 96,
   "id": "45e1d10d",
   "metadata": {},
   "outputs": [
    {
     "data": {
      "text/plain": [
       "0.7287036197949561"
      ]
     },
     "execution_count": 96,
     "metadata": {},
     "output_type": "execute_result"
    }
   ],
   "source": [
    "estimator.score(X_test, y_test)"
   ]
  },
  {
   "cell_type": "markdown",
   "id": "a507f828",
   "metadata": {},
   "source": [
    "## Saving model"
   ]
  },
  {
   "cell_type": "code",
   "execution_count": 97,
   "id": "de4b0573",
   "metadata": {},
   "outputs": [],
   "source": [
    "from joblib import dump"
   ]
  },
  {
   "cell_type": "code",
   "execution_count": 98,
   "id": "88ca4771",
   "metadata": {},
   "outputs": [
    {
     "data": {
      "text/plain": [
       "['../models/model.pkl']"
      ]
     },
     "execution_count": 98,
     "metadata": {},
     "output_type": "execute_result"
    }
   ],
   "source": [
    "dump(estimator, '../models/model.pkl')"
   ]
  },
  {
   "cell_type": "code",
   "execution_count": 99,
   "id": "c1a1dbec",
   "metadata": {},
   "outputs": [
    {
     "data": {
      "text/plain": [
       "Index(['opening_gross', 'screens', 'production_budget', 'title_year',\n",
       "       'aspect_ratio', 'duration', 'cast_total_facebook_likes', 'budget',\n",
       "       'imdb_score'],\n",
       "      dtype='object')"
      ]
     },
     "execution_count": 99,
     "metadata": {},
     "output_type": "execute_result"
    }
   ],
   "source": [
    "X_train.columns"
   ]
  },
  {
   "cell_type": "code",
   "execution_count": null,
   "id": "709328a8",
   "metadata": {},
   "outputs": [],
   "source": []
  }
 ],
 "metadata": {
  "kernelspec": {
   "display_name": "Python 3.9.12 ('venv': venv)",
   "language": "python",
   "name": "python3"
  },
  "language_info": {
   "codemirror_mode": {
    "name": "ipython",
    "version": 3
   },
   "file_extension": ".py",
   "mimetype": "text/x-python",
   "name": "python",
   "nbconvert_exporter": "python",
   "pygments_lexer": "ipython3",
   "version": "3.9.12"
  },
  "vscode": {
   "interpreter": {
    "hash": "2c3a6c36e0610d09db662d393251f6da1f8049b260c32b886a4a29d7c7ec2864"
   }
  }
 },
 "nbformat": 4,
 "nbformat_minor": 5
}
